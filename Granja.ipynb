{
 "cells": [
  {
   "cell_type": "code",
   "execution_count": 1,
   "metadata": {},
   "outputs": [
    {
     "name": "stdout",
     "output_type": "stream",
     "text": [
      "List of devices attached\n",
      "HA0NSBDN\tdevice\n",
      "\n"
     ]
    },
    {
     "data": {
      "text/plain": [
       "Result(id=0, result=None, error=None)"
      ]
     },
     "execution_count": 1,
     "metadata": {},
     "output_type": "execute_result"
    }
   ],
   "source": [
    "# import android\n",
    "import android\n",
    "!adb devices\n",
    "!adb forward tcp:9999 tcp:1418\n",
    "droid = android.Android()\n",
    "droid.ttsSpeak(\"Estoy listo para recibir instrucciones\")"
   ]
  },
  {
   "cell_type": "code",
   "execution_count": 3,
   "metadata": {},
   "outputs": [
    {
     "name": "stdout",
     "output_type": "stream",
     "text": [
      "Writing granja.py\n"
     ]
    }
   ],
   "source": [
    "%%file granja.py\n",
    "import android\n",
    "import datetime, time\n",
    "from haversine import *\n",
    "droid = android.Android()\n",
    "\n",
    "logName = 'locationLog-'+datetime.datetime.now().strftime(\"%Y%m%d-%H%M%S\")\n",
    "localLog = '/sdcard/sl4a/scripts/RySI/'+logName+'.txt'\n",
    "\n",
    "logHeader = \"Time, Latitude, Longitude, Distance, Provider\\n\"\n",
    "\n",
    "lat1 = 19.5197093\n",
    "lon1 = -96.9155696\n",
    "hd = haversine(lat1, lon1, lat1, lon1)\n",
    "prov = '-'\n",
    "\n",
    "droid.wakeLockAcquirePartial()\n",
    "droid.startLocating()\n",
    "time.sleep(15)\n",
    "\n",
    "with open(localLog, 'a') as logFile:\n",
    "    logFile.write(logHeader)\n",
    "    curTime = datetime.datetime.now().strftime('%Y-%m-%d %H:%M:%S')\n",
    "    logFile.write(\"{0}, {1}, {2}, {3}, {4}, {5}\\n\".format(curTime, lat1, lon1, hd, prov, '-'))\n",
    "    \n",
    "    while True:\n",
    "        loc = droid.readLocation().result\n",
    "        if loc == {}:\n",
    "            loc = droid.getLastKnownLocation().result\n",
    "            newLoc = False\n",
    "        if loc != {}:\n",
    "            newLoc = True\n",
    "            try:\n",
    "                prov = 'gps'\n",
    "                n = loc[prov]                \n",
    "            except KeyError:\n",
    "                prov = 'network'\n",
    "                n = loc[prov]\n",
    "            \n",
    "        la = n['latitude']\n",
    "        lo = n['longitude']\n",
    "        ts = n['time']\n",
    "        t = datetime.datetime.fromtimestamp(ts/1e3).strftime('%H:%M:%S')\n",
    "        \n",
    "        hd = haversine(la, lo, lat1, lon1)\n",
    "        time.sleep(10)\n",
    "        \n",
    "        logLine = \"{0}, {1}, {2}, {3}, {4}, {5}\\n\".format(t, lat1, lon1, hd, prov, newLoc)\n",
    "        logFile.write(logLine)\n",
    "        logFile.flush()\n",
    "        \n",
    "        print \"{0}, {1}, {2}, {3}\".format(t, hd, prov, newLoc)\n",
    "            \n",
    "        if hd > .1:\n",
    "            droid.toggleRingerSilentMode(True)\n",
    "            droid.vibrate(1000)\n",
    "            droid.ttsSpeak(\"Dejando geocerca\")\n",
    "        else:\n",
    "            droid.toggleRingerSilentMode(False)\n",
    "    \n",
    "    logFile.close()"
   ]
  },
  {
   "cell_type": "code",
   "execution_count": 4,
   "metadata": {},
   "outputs": [
    {
     "name": "stdout",
     "output_type": "stream",
     "text": [
      "Writing haversine.py\n"
     ]
    }
   ],
   "source": [
    "%%file haversine.py\n",
    "# haversine function to get distance\n",
    "\n",
    "from math import * \n",
    " \n",
    "def haversine(lon1, lat1, lon2, lat2):\n",
    "    \"\"\"     \n",
    "    Calculate the great circle distance between two points      \n",
    "    on the earth (specified in decimal degrees)     \n",
    "    \"\"\"     \n",
    "    # convert decimal degrees to radians      \n",
    "    lon1, lat1, lon2, lat2 = map(radians, [lon1, lat1, lon2, lat2])     \n",
    "    # haversine formula      \n",
    "    dlon = lon2 - lon1      \n",
    "    dlat = lat2 - lat1 \n",
    "    a = sin(dlat/2)**2 + cos(lat1) * cos(lat2) * sin(dlon/2)**2     \n",
    "    c = 2 * atan2(sqrt(a), sqrt(1-a))      \n",
    "    km = 6367 * c    \n",
    "    return km"
   ]
  },
  {
   "cell_type": "code",
   "execution_count": null,
   "metadata": {},
   "outputs": [],
   "source": []
  }
 ],
 "metadata": {
  "kernelspec": {
   "display_name": "Python 2",
   "language": "python",
   "name": "python2"
  },
  "language_info": {
   "codemirror_mode": {
    "name": "ipython",
    "version": 2
   },
   "file_extension": ".py",
   "mimetype": "text/x-python",
   "name": "python",
   "nbconvert_exporter": "python",
   "pygments_lexer": "ipython2",
   "version": "2.7.14"
  }
 },
 "nbformat": 4,
 "nbformat_minor": 2
}
