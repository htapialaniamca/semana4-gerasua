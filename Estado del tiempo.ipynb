{
 "cells": [
  {
   "cell_type": "code",
   "execution_count": 1,
   "metadata": {},
   "outputs": [
    {
     "name": "stdout",
     "output_type": "stream",
     "text": [
      "List of devices attached\n",
      "HA0NSBDN\tdevice\n",
      "\n"
     ]
    }
   ],
   "source": [
    "import android\n",
    "!adb devices && adb forward tcp:9999 tcp:1418"
   ]
  },
  {
   "cell_type": "code",
   "execution_count": 2,
   "metadata": {},
   "outputs": [],
   "source": [
    "droide = android.Android ()"
   ]
  },
  {
   "cell_type": "code",
   "execution_count": 4,
   "metadata": {},
   "outputs": [
    {
     "name": "stdout",
     "output_type": "stream",
     "text": [
      "{u'bearing': 0, u'altitude': 1161.300048828125, u'provider': u'network', u'longitude': -96.8614521, u'time': 1522728474533L, u'latitude': 19.5129789, u'speed': 0, u'accuracy': 22.983999252319336}\n",
      "23:07\n"
     ]
    }
   ],
   "source": [
    "loc = droide.getLastKnownLocation().result\n",
    "if loc[\"gps\"] is not None:\n",
    "    loc=loc[\"gps\"]\n",
    "else:\n",
    "    loc = loc[\"network\"]\n",
    "lat=loc[\"latitude\"]\n",
    "lon=loc[\"longitude\"]\n",
    "time = loc[\"time\"]\n",
    "print loc\n",
    "import datetime\n",
    "hora = datetime.datetime.fromtimestamp(time/1e3).strftime('%H:%M')\n",
    "print hora\n",
    "#print lon\n",
    "direccion = droide.geocode(lat,lon)\n",
    "cp=direccion.result[0][\"postal_code\"]\n",
    "cc = direccion.result[0][\"country_code\"]\n",
    "calle = direccion.result[0][\"thoroughfare\"]\n",
    "ciudad = direccion.result[0][\"sub_admin_area\"]"
   ]
  },
  {
   "cell_type": "code",
   "execution_count": 5,
   "metadata": {},
   "outputs": [
    {
     "data": {
      "text/plain": [
       "Result(id=4, result=[{u'thoroughfare': u'Calle Datil', u'locality': u'Xalapa Enr\\xedquez', u'sub_admin_area': u'Xalapa', u'admin_area': u'Veracruz', u'feature_name': u'40', u'country_code': u'MX', u'country_name': u'M\\xe9xico', u'postal_code': u'91190'}], error=None)"
      ]
     },
     "execution_count": 5,
     "metadata": {},
     "output_type": "execute_result"
    }
   ],
   "source": [
    "droide.geocode(lat,lon)"
   ]
  },
  {
   "cell_type": "code",
   "execution_count": 6,
   "metadata": {},
   "outputs": [
    {
     "name": "stdout",
     "output_type": "stream",
     "text": [
      "91190\n",
      "MX\n",
      "Calle Datil\n",
      "Xalapa\n"
     ]
    }
   ],
   "source": [
    "print cp\n",
    "print cc\n",
    "print calle\n",
    "print ciudad"
   ]
  },
  {
   "cell_type": "code",
   "execution_count": 7,
   "metadata": {},
   "outputs": [],
   "source": [
    "url=\"http://api.openweathermap.org/data/2.5/weather?zip={0},{1}&APPID=dfeea5e604e1948b28652216ad910d11\".format(cp,cc)"
   ]
  },
  {
   "cell_type": "code",
   "execution_count": 8,
   "metadata": {},
   "outputs": [
    {
     "data": {
      "text/plain": [
       "'http://api.openweathermap.org/data/2.5/weather?zip=91190,MX&APPID=dfeea5e604e1948b28652216ad910d11'"
      ]
     },
     "execution_count": 8,
     "metadata": {},
     "output_type": "execute_result"
    }
   ],
   "source": [
    "url"
   ]
  },
  {
   "cell_type": "code",
   "execution_count": 9,
   "metadata": {},
   "outputs": [],
   "source": [
    "import requests\n",
    "r=requests.get(url).json()"
   ]
  },
  {
   "cell_type": "code",
   "execution_count": 10,
   "metadata": {},
   "outputs": [
    {
     "data": {
      "text/plain": [
       "{u'base': u'stations',\n",
       " u'clouds': {u'all': 80},\n",
       " u'cod': 200,\n",
       " u'coord': {u'lat': 19.32, u'lon': -96.96},\n",
       " u'dt': 1522728565,\n",
       " u'id': 590134017,\n",
       " u'main': {u'grnd_level': 789.92,\n",
       "  u'humidity': 76,\n",
       "  u'pressure': 789.92,\n",
       "  u'sea_level': 1022.36,\n",
       "  u'temp': 288.347,\n",
       "  u'temp_max': 288.347,\n",
       "  u'temp_min': 288.347},\n",
       " u'name': u'Xalapa',\n",
       " u'sys': {u'country': u'MX',\n",
       "  u'message': 0.1682,\n",
       "  u'sunrise': 1522757988,\n",
       "  u'sunset': 1522802545},\n",
       " u'weather': [{u'description': u'broken clouds',\n",
       "   u'icon': u'04n',\n",
       "   u'id': 803,\n",
       "   u'main': u'Clouds'}],\n",
       " u'wind': {u'deg': 186.5, u'speed': 1.17}}"
      ]
     },
     "execution_count": 10,
     "metadata": {},
     "output_type": "execute_result"
    }
   ],
   "source": [
    "r"
   ]
  },
  {
   "cell_type": "code",
   "execution_count": 11,
   "metadata": {},
   "outputs": [],
   "source": [
    "wdesc=r[\"weather\"][0]['description']"
   ]
  },
  {
   "cell_type": "code",
   "execution_count": 12,
   "metadata": {},
   "outputs": [
    {
     "name": "stdout",
     "output_type": "stream",
     "text": [
      "broken clouds\n"
     ]
    }
   ],
   "source": [
    "print wdesc"
   ]
  },
  {
   "cell_type": "code",
   "execution_count": 13,
   "metadata": {},
   "outputs": [
    {
     "name": "stdout",
     "output_type": "stream",
     "text": [
      "Xalapa\n",
      "23:07\n",
      "broken clouds\n",
      "En la ciudad de Xalapa siendo las 23:07 el estado del tiempo es broken clouds\n"
     ]
    }
   ],
   "source": [
    "#mensaje=\"En la ciudad de {0}, siendo las {1} horas, en la calle de {2}, el estado del tiempo es {3}\".format(ciudad,date,calle,wdesc)\n",
    "#import time\n",
    "#import datetime\n",
    "#now = datetime.datetime.now()\n",
    "#hactual = datetime.time(now.hour, now.minute)\n",
    "#print calle\n",
    "print ciudad\n",
    "print hora\n",
    "print wdesc\n",
    "cadena = \"En la ciudad de \" + ciudad + \" siendo las \" + hora + \" el estado del tiempo es \" + wdesc\n",
    "#cadena = \"En la ciudad de \" + ciudad + \" siendo las \" + hactual + \" en la calle de \" + calle + \" el estado del tiempo es \" + wdesc\n",
    "print cadena"
   ]
  },
  {
   "cell_type": "code",
   "execution_count": 14,
   "metadata": {},
   "outputs": [
    {
     "data": {
      "text/plain": [
       "Result(id=5, result=None, error=None)"
      ]
     },
     "execution_count": 14,
     "metadata": {},
     "output_type": "execute_result"
    }
   ],
   "source": [
    "droide.ttsSpeak(cadena)"
   ]
  },
  {
   "cell_type": "code",
   "execution_count": null,
   "metadata": {},
   "outputs": [],
   "source": []
  }
 ],
 "metadata": {
  "kernelspec": {
   "display_name": "Python 2",
   "language": "python",
   "name": "python2"
  },
  "language_info": {
   "codemirror_mode": {
    "name": "ipython",
    "version": 2
   },
   "file_extension": ".py",
   "mimetype": "text/x-python",
   "name": "python",
   "nbconvert_exporter": "python",
   "pygments_lexer": "ipython2",
   "version": "2.7.14"
  }
 },
 "nbformat": 4,
 "nbformat_minor": 2
}
